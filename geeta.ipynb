{
  "nbformat": 4,
  "nbformat_minor": 0,
  "metadata": {
    "colab": {
      "name": "geeta.ipynb",
      "provenance": [],
      "collapsed_sections": [],
      "authorship_tag": "ABX9TyNmkrnBRDzkgb8sYa5le6Tf",
      "include_colab_link": true
    },
    "kernelspec": {
      "name": "python3",
      "display_name": "Python 3"
    },
    "language_info": {
      "name": "python"
    }
  },
  "cells": [
    {
      "cell_type": "markdown",
      "metadata": {
        "id": "view-in-github",
        "colab_type": "text"
      },
      "source": [
        "<a href=\"https://colab.research.google.com/github/geeta024/book/blob/main/geeta.ipynb\" target=\"_parent\"><img src=\"https://colab.research.google.com/assets/colab-badge.svg\" alt=\"Open In Colab\"/></a>"
      ]
    },
    {
      "cell_type": "code",
      "execution_count": null,
      "metadata": {
        "id": "9a4FohWcP7Ln"
      },
      "outputs": [],
      "source": [
        ""
      ]
    },
    {
      "cell_type": "markdown",
      "source": [
        "Mid Course Test.\n",
        "1.Print your fullname by concatenate your first name and surname.(Tip:apply String Concatenation)"
      ],
      "metadata": {
        "id": "D3I9_QraP7wo"
      }
    },
    {
      "cell_type": "code",
      "source": [
        "str1=\"Geeta\"\n",
        "str2 =\"Faujdar\"\n",
        "str3 = str1 + str2\n",
        "print(str3)"
      ],
      "metadata": {
        "colab": {
          "base_uri": "https://localhost:8080/"
        },
        "id": "Tr4NXDrsQBrv",
        "outputId": "9e40ec72-d9ae-4caa-f9b6-410cfaebd8c1"
      },
      "execution_count": 5,
      "outputs": [
        {
          "output_type": "stream",
          "name": "stdout",
          "text": [
            "GeetaFaujdar\n"
          ]
        }
      ]
    },
    {
      "cell_type": "markdown",
      "source": [
        "2.Construct a program to calculate the sum of two numbers. (2 marks)"
      ],
      "metadata": {
        "id": "0_1QRZV5S3OY"
      }
    },
    {
      "cell_type": "code",
      "source": [
        "a = int(input(\"enter first number: \"))\n",
        "b = int(input(\"enter second number: \"))\n",
        " \n",
        "sum = a + b\n",
        " \n",
        "print(\"sum:\", sum)"
      ],
      "metadata": {
        "colab": {
          "base_uri": "https://localhost:8080/"
        },
        "id": "h1E5YwIdS8sY",
        "outputId": "56598410-061a-4a14-e2f8-4f85f7bedad8"
      },
      "execution_count": 6,
      "outputs": [
        {
          "output_type": "stream",
          "name": "stdout",
          "text": [
            "enter first number: 5\n",
            "enter second number: 8\n",
            "sum: 13\n"
          ]
        }
      ]
    },
    {
      "cell_type": "markdown",
      "source": [
        "3.Define Variable.Mention the special characters permitted to name the variable. (2 marks)"
      ],
      "metadata": {
        "id": "p7f21Ng7TFfM"
      }
    },
    {
      "cell_type": "markdown",
      "source": [
        "A variable name must start with a letter or the underscore character. A variable name cannot start with a number. A variable name can only contain alpha-numeric characters and underscores (A-z, 0-9, and _ ).You can't use special characters like !, @, #, $, % etc. in variable name. Python keywords cannot be used as variable name."
      ],
      "metadata": {
        "id": "_AgNionxTY2F"
      }
    },
    {
      "cell_type": "markdown",
      "source": [
        "4.Write a Python function to sum all the numbers in a list. (3 marks)\n"
      ],
      "metadata": {
        "id": "QBeZ0LmOTv-u"
      }
    },
    {
      "cell_type": "code",
      "source": [
        "def sum(numbers):\n",
        "    total = 0\n",
        "    for x in numbers:\n",
        "        total += x\n",
        "    return total\n",
        "print(sum((8, 2, 3, 0, 7)))"
      ],
      "metadata": {
        "colab": {
          "base_uri": "https://localhost:8080/"
        },
        "id": "_V5X0OnXUBMZ",
        "outputId": "bdc5c974-a44d-4853-e362-267450a2134a"
      },
      "execution_count": 7,
      "outputs": [
        {
          "output_type": "stream",
          "name": "stdout",
          "text": [
            "20\n"
          ]
        }
      ]
    },
    {
      "cell_type": "markdown",
      "source": [
        "5.Write a Python program to reverse a string. (3 marks)\n"
      ],
      "metadata": {
        "id": "qgI_Mp20UKQy"
      }
    },
    {
      "cell_type": "code",
      "source": [
        "def reverse_string(str):  \n",
        "    str1 = \"\"     \n",
        "    for i in str:  \n",
        "        str1 = i + str1  \n",
        "    return str1     \n",
        "     \n",
        "str = \"GeetaFaujdar\"          \n",
        "print(\"The original string is: \",str)  \n",
        "print(\"The reverse string is\",reverse_string(str)) "
      ],
      "metadata": {
        "colab": {
          "base_uri": "https://localhost:8080/"
        },
        "id": "qayRJBahUMuV",
        "outputId": "64b910cc-a701-4a01-d5b0-926042b64001"
      },
      "execution_count": 9,
      "outputs": [
        {
          "output_type": "stream",
          "name": "stdout",
          "text": [
            "The original string is:  GeetaFaujdar\n",
            "The reverse string is radjuaFateeG\n"
          ]
        }
      ]
    },
    {
      "cell_type": "markdown",
      "source": [
        "6.[\"blue\",'green','red','yellow','pink'] How will you check red is present in the list (2 marks)"
      ],
      "metadata": {
        "id": "TF1NITRMUrU1"
      }
    },
    {
      "cell_type": "code",
      "source": [
        "thislist=[\"blue\",'green','red','yellow','pink'] \n",
        "if('red' in thislist):\n",
        "  print(\"yes\")"
      ],
      "metadata": {
        "colab": {
          "base_uri": "https://localhost:8080/"
        },
        "id": "LoOklaa2UsxK",
        "outputId": "e1a412fa-f8e9-425d-d7e4-ea15acb0402e"
      },
      "execution_count": 14,
      "outputs": [
        {
          "output_type": "stream",
          "name": "stdout",
          "text": [
            "yes\n"
          ]
        }
      ]
    },
    {
      "cell_type": "markdown",
      "source": [
        "7.Create a file ,Open the file.Write some notes.read it,then update .Read the file after the update. (10\n",
        "marks)\n"
      ],
      "metadata": {
        "id": "Hr5lA1o_ZutJ"
      }
    },
    {
      "cell_type": "code",
      "source": [
        "f=open(\"xyz.text\",\"w\")\n",
        "f.write(\"geeta faujdar\")\n",
        "f.close()"
      ],
      "metadata": {
        "id": "D6Q17P5OZ0JA"
      },
      "execution_count": 21,
      "outputs": []
    },
    {
      "cell_type": "code",
      "source": [
        "f=open(\"xyz.text\",\"r\")\n",
        "print(f.read(1))\n",
        "f.close()"
      ],
      "metadata": {
        "colab": {
          "base_uri": "https://localhost:8080/"
        },
        "id": "onl96xB2l3oc",
        "outputId": "7fc80ff1-48c9-45ce-d2ac-3ad88d96dc77"
      },
      "execution_count": 26,
      "outputs": [
        {
          "output_type": "stream",
          "name": "stdout",
          "text": [
            "\n"
          ]
        }
      ]
    },
    {
      "cell_type": "code",
      "source": [
        "f=open(\"xyz.text\",\"r\")\n",
        "print(f.readline())\n",
        "f.close()"
      ],
      "metadata": {
        "colab": {
          "base_uri": "https://localhost:8080/"
        },
        "id": "2dZZKkabmXmV",
        "outputId": "87b4aefc-24c0-4102-e48e-4d58fa0e8dfe"
      },
      "execution_count": 28,
      "outputs": [
        {
          "output_type": "stream",
          "name": "stdout",
          "text": [
            "\n"
          ]
        }
      ]
    },
    {
      "cell_type": "code",
      "source": [
        "f=open(\"xyz.text\",\"w\")\n",
        "f.write(\"24\")\n",
        "f.close()"
      ],
      "metadata": {
        "id": "gk6mBiJimfK1"
      },
      "execution_count": 29,
      "outputs": []
    },
    {
      "cell_type": "markdown",
      "source": [
        "8.Rewrite the documents in the above file "
      ],
      "metadata": {
        "id": "Mx9eijdrm8xI"
      }
    },
    {
      "cell_type": "code",
      "source": [
        "f=open(\"abc.text\",\"w\")\n",
        "f.write(\"24\")\n",
        "f.close()"
      ],
      "metadata": {
        "id": "BrBokD-Qm-xc"
      },
      "execution_count": 30,
      "outputs": []
    },
    {
      "cell_type": "code",
      "source": [
        "f=open(\"xyz.text\",\"r\")\n",
        "print(f.read())\n",
        "f.close()"
      ],
      "metadata": {
        "id": "ebhKZy4-nlYy"
      },
      "execution_count": null,
      "outputs": []
    },
    {
      "cell_type": "code",
      "source": [
        "f=open(\"xyz.text\",\"w\")\n",
        "f.write(\"hello in my world\")\n",
        "f.close()"
      ],
      "metadata": {
        "id": "4gLv2XykntfF"
      },
      "execution_count": null,
      "outputs": []
    },
    {
      "cell_type": "markdown",
      "source": [
        "9.Delete the documents which you saved in the above file. (1 marks)"
      ],
      "metadata": {
        "id": "wOEDlF2On1pK"
      }
    },
    {
      "cell_type": "code",
      "source": [
        "import os\n",
        "os.remove(\"abc.text\")"
      ],
      "metadata": {
        "id": "3k2GdCbVn6Fz"
      },
      "execution_count": 31,
      "outputs": []
    },
    {
      "cell_type": "markdown",
      "source": [
        "10.Write the symbols used in text file mode for the following operations. (2 marks)\n",
        "Read Only, Write only, Read and Write, Write and Read"
      ],
      "metadata": {
        "id": "BLDsvndoonEv"
      }
    },
    {
      "cell_type": "markdown",
      "source": [
        "Read Only = 'r'\n",
        "write Only = 'w'\n",
        "read and write ='r+'\n",
        "write and read = 'w+'"
      ],
      "metadata": {
        "id": "Vy8JGebqpvnk"
      }
    },
    {
      "cell_type": "markdown",
      "source": [
        "11. Write a program in python to display first line from the file(“data.txt”) (2 marks)bold text"
      ],
      "metadata": {
        "id": "9fpMhHHGquh4"
      }
    },
    {
      "cell_type": "code",
      "source": [
        "f=open(\"xyz.text\",\"r\")\n",
        "first_line = f.readline()\n",
        "print(first_line)\n",
        "f.close()"
      ],
      "metadata": {
        "colab": {
          "base_uri": "https://localhost:8080/"
        },
        "id": "ZMboZ9GrsA7e",
        "outputId": "1e13e08b-d6b4-4edb-bc1c-6cbced639ec8"
      },
      "execution_count": 33,
      "outputs": [
        {
          "output_type": "stream",
          "name": "stdout",
          "text": [
            "24\n"
          ]
        }
      ]
    },
    {
      "cell_type": "markdown",
      "source": [
        "12.Write a Python program to get the name of the operating system (Platform independent),\n",
        "information of current operating system, current working directory, print files and directories in the\n",
        "current directory and raises error in the case of invalid or inaccessible file names and paths (3\n",
        "marks)\n"
      ],
      "metadata": {
        "id": "zx46HiitvBOk"
      }
    },
    {
      "cell_type": "code",
      "source": [
        "import os\n",
        "print(\"Operating System:\",os.name)\n",
        "print(\"\\nInformation of current operating system: \",os.uname())\n",
        "print(\"\\nCurrent Working Directory: \",os.getcwd())\n",
        "print(\"\\nList of files and directories in the current directory:\")\n",
        "print(os.listdir('.'))\n",
        "print(\"\\nTest if a specified file exis or not:\")\n",
        "try:\n",
        "   filename = 'abc.txt'\n",
        "   f = open(filename, 'r')\n",
        "   text = f.read()\n",
        "   f.close()\n",
        "except IOError:\n",
        "   print('Not accessed or problem in reading: ' + filename)"
      ],
      "metadata": {
        "colab": {
          "base_uri": "https://localhost:8080/"
        },
        "id": "hlrtryikvDMu",
        "outputId": "28e08f3e-6603-428a-8b3f-8ae557ddbc5d"
      },
      "execution_count": 34,
      "outputs": [
        {
          "output_type": "stream",
          "name": "stdout",
          "text": [
            "Operating System: posix\n",
            "\n",
            "Information of current operating system:  posix.uname_result(sysname='Linux', nodename='9b6ebf638574', release='5.4.144+', version='#1 SMP Tue Dec 7 09:58:10 PST 2021', machine='x86_64')\n",
            "\n",
            "Current Working Directory:  /content\n",
            "\n",
            "List of files and directories in the current directory:\n",
            "['.config', 'xyz.text', 'sample_data']\n",
            "\n",
            "Test if a specified file exis or not:\n",
            "Not accessed or problem in reading: abc.txt\n"
          ]
        }
      ]
    },
    {
      "cell_type": "markdown",
      "source": [
        ""
      ],
      "metadata": {
        "id": "NgUU6wA2vZ93"
      }
    },
    {
      "cell_type": "markdown",
      "source": [
        "13.create a folder in C:\\dk\\ml2\\myfolder.[tip:make all directories] (2 marks)\n"
      ],
      "metadata": {
        "id": "v63fGgyvvc1Q"
      }
    },
    {
      "cell_type": "code",
      "source": [
        "import os\n",
        "\n",
        "directory = \"GeetaFaujdar\"\n",
        "  \n",
        "parent_dir = \"C:\\dk\\ml2\\myfolder\"\n",
        "  \n",
        "\n",
        "path = os.path.join(parent_dir, directory)\n",
        "  \n",
        "\n",
        "print(\"Directory '% s' created\" % directory)\n",
        "  \n"
      ],
      "metadata": {
        "colab": {
          "base_uri": "https://localhost:8080/"
        },
        "id": "_Mqcz6UOveQj",
        "outputId": "ceb090d2-bc52-4886-d958-d8f25174d5a3"
      },
      "execution_count": 37,
      "outputs": [
        {
          "output_type": "stream",
          "name": "stdout",
          "text": [
            "Directory 'GeetaFaujdar' created\n"
          ]
        }
      ]
    },
    {
      "cell_type": "markdown",
      "source": [
        "14.Construct a python program to get the marks of a student and predict his grade.[tip use if elif\n",
        "statements.] (5 marks)"
      ],
      "metadata": {
        "id": "A21U5s0gxR-1"
      }
    },
    {
      "cell_type": "code",
      "source": [
        "print(\"Enter Marks Obtained in 5 Subjects: \")\n",
        "markOne = int(input())\n",
        "markTwo = int(input())\n",
        "markThree = int(input())\n",
        "markFour = int(input())\n",
        "markFive = int(input())\n",
        "\n",
        "tot = markOne+markTwo+markThree+markFour+markFive\n",
        "avg = tot/5\n",
        "\n",
        "if avg>=91 and avg<=100:\n",
        "    print(\"Your Grade is A1\")\n",
        "elif avg>=81 and avg<91:\n",
        "    print(\"Your Grade is A2\")\n",
        "elif avg>=71 and avg<81:\n",
        "    print(\"Your Grade is B1\")\n",
        "elif avg>=61 and avg<71:\n",
        "    print(\"Your Grade is B2\")\n",
        "elif avg>=51 and avg<61:\n",
        "    print(\"Your Grade is C1\")\n",
        "elif avg>=41 and avg<51:\n",
        "    print(\"Your Grade is C2\")\n",
        "elif avg>=33 and avg<41:\n",
        "    print(\"Your Grade is D\")\n",
        "elif avg>=21 and avg<33:\n",
        "    print(\"fail\")\n",
        "else:\n",
        "    print(\"Invalid Input!\")"
      ],
      "metadata": {
        "colab": {
          "base_uri": "https://localhost:8080/"
        },
        "id": "RpP8Mjr8x4D-",
        "outputId": "e6cde45e-7403-4d38-c356-73011af1050d"
      },
      "execution_count": 39,
      "outputs": [
        {
          "output_type": "stream",
          "name": "stdout",
          "text": [
            "Enter Marks Obtained in 5 Subjects: \n",
            "60\n",
            "70\n",
            "70\n",
            "70\n",
            "0\n",
            "Your Grade is C1\n"
          ]
        }
      ]
    },
    {
      "cell_type": "markdown",
      "source": [
        "15.Define a function to arrange the elements of a list in ascending order.[Tip:use multiple for loops\n",
        "and swaping] (5 marks)"
      ],
      "metadata": {
        "id": "ER_YCtygyVfF"
      }
    },
    {
      "cell_type": "code",
      "source": [
        "nums = [1, 5, 3, 4, 2, 10, 6, 8, 7, 9]\n",
        "nums.sort()\n",
        "print('List in Ascending Order: ', nums)\n"
      ],
      "metadata": {
        "colab": {
          "base_uri": "https://localhost:8080/"
        },
        "id": "If4cp9Biyiwu",
        "outputId": "ddb0a074-fa09-4575-a33b-f3d1489ac7f3"
      },
      "execution_count": 41,
      "outputs": [
        {
          "output_type": "stream",
          "name": "stdout",
          "text": [
            "List in Ascending Order:  [1, 2, 3, 4, 5, 6, 7, 8, 9, 10]\n"
          ]
        }
      ]
    },
    {
      "cell_type": "markdown",
      "source": [
        "16.Implement stack using Queue Module. (5 marks)"
      ],
      "metadata": {
        "id": "VvKt-aryzPZO"
      }
    },
    {
      "cell_type": "code",
      "source": [
        "from queue import Queue\n",
        " \n",
        "class Stack:\n",
        "     \n",
        "    def __init__(self):\n",
        "         \n",
        "        \n",
        "        self.q1 = Queue()\n",
        "        self.q2 = Queue()\n",
        "        self.curr_size = 0\n",
        " \n",
        "    def push(self, x):\n",
        "        self.curr_size += self.q2.put(x)\n",
        " \n",
        "        \n",
        "        while (not self.q1.empty()):\n",
        "            self.q2.put(self.q1.queue[0])\n",
        "            self.q1.get()\n",
        " \n",
        "        \n",
        "        self.q = self.q1\n",
        "        self.q1 = self.q2\n",
        "        self.q2 = self.q\n",
        " \n",
        "    def pop(self):\n",
        " \n",
        "        \n",
        "        if (self.q1.empty()):\n",
        "            return\n",
        "        self.q1.get()\n",
        "        self.curr_size -= 1\n",
        " \n",
        "    def top(self):\n",
        "        if (self.q1.empty()):\n",
        "            return -1\n",
        "        return self.q1.queue[0]\n",
        " \n",
        "    def size(self):\n",
        "        return self.curr_size\n",
        " \n",
        "if __name__ == '__main__':\n",
        "    s = Stack()\n",
        "    s.push(1)\n",
        "    s.push(2)\n",
        "    s.push(3)\n",
        " \n",
        "    print(\"current size: \", s.size())\n",
        "    print(s.top())\n",
        "    s.pop()\n",
        "    print(s.top())\n",
        "    s.pop()\n",
        "    print(s.top())\n",
        " \n",
        "    print(\"current size: \", s.size())\n",
        " "
      ],
      "metadata": {
        "colab": {
          "base_uri": "https://localhost:8080/"
        },
        "id": "VZ6LrPSzzRrT",
        "outputId": "9c66d47e-c365-4778-9f1e-14d936f665d6"
      },
      "execution_count": 42,
      "outputs": [
        {
          "output_type": "stream",
          "name": "stdout",
          "text": [
            "current size:  3\n",
            "3\n",
            "2\n",
            "1\n",
            "current size:  1\n"
          ]
        }
      ]
    }
  ]
}